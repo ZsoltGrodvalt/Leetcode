{
 "cells": [
  {
   "cell_type": "markdown",
   "metadata": {},
   "source": [
    "# Solution: groupby with LAMBDA function"
   ]
  },
  {
   "cell_type": "code",
   "execution_count": 74,
   "metadata": {},
   "outputs": [],
   "source": [
    "import pandas as pd\n",
    "\n",
    "def department_highest_salary_sol(employee: pd.DataFrame, department: pd.DataFrame) -> pd.DataFrame:\n",
    "    if employee.empty or department.empty:\n",
    "        return pd.DataFrame(columns=['Department','Employee', 'Salary'])\n",
    "    \n",
    "    # Merge the employee and department DataFrames on 'departmentId' and 'id' columns\n",
    "    merged_df = employee.merge(department, left_on='departmentId', right_on='id', suffixes=('_employee', '_department'))\n",
    "    \n",
    "    # Use groupby to group data by 'departmentId' and apply a lambda function to get employees with highest salary in each group\n",
    "    highest_salary_df = merged_df.groupby('departmentId').apply(lambda x: x[x['salary'] == x['salary'].max()], include_groups=False)\n",
    "    \n",
    "    # Drop the duplicate 'departmentId' column and reset the index\n",
    "    highest_salary_df = highest_salary_df.reset_index(drop=True)\n",
    "    \n",
    "    # Select the required columns and return the result\n",
    "    result_df = highest_salary_df[['name_department', 'name_employee', 'salary']]\n",
    "    \n",
    "    # Rename the columns as specified\n",
    "    result_df.columns = ['Department','Employee', 'Salary']\n",
    "    \n",
    "    return result_df\n"
   ]
  },
  {
   "cell_type": "markdown",
   "metadata": {},
   "source": [
    "## My solution"
   ]
  },
  {
   "cell_type": "code",
   "execution_count": 75,
   "metadata": {},
   "outputs": [],
   "source": [
    "import pandas as pd\n",
    "\n",
    "def department_highest_salary(employee: pd.DataFrame, department: pd.DataFrame) -> pd.DataFrame:\n",
    "    emp = employee.merge(department, left_on='departmentId', right_on='id', suffixes=('_emp','_dep'))\n",
    "    emp.rename(columns={'name_dep':'Department','name_emp':'Employee','salary':'Salary'},inplace=True)\n",
    "    employees = emp[['Department','Employee','Salary']]\n",
    "\n",
    "    maxSalary = emp[['Department','Salary']].groupby('Department').max()\n",
    "\n",
    "    comb = employees.merge(maxSalary, left_on='Department', right_on='Department', suffixes=('_emp','_max'))\n",
    "    \n",
    "    return employees[comb['Salary_emp']==comb['Salary_max']]"
   ]
  },
  {
   "cell_type": "code",
   "execution_count": 76,
   "metadata": {},
   "outputs": [],
   "source": [
    "employee = pd.DataFrame({   'id':[1,2,3,4,5],\n",
    "                            'name':['Joe','Jim','Henry','Sam','Max'],\n",
    "                            'salary':[70000,90000,80000,60000,90000],\n",
    "                            'departmentId':[1,1,2,2,1]})\n",
    "department = pd.DataFrame({   'id':[1,2],\n",
    "                            'name':['IT','Sales']})"
   ]
  },
  {
   "cell_type": "code",
   "execution_count": 77,
   "metadata": {},
   "outputs": [
    {
     "data": {
      "text/html": [
       "<div>\n",
       "<style scoped>\n",
       "    .dataframe tbody tr th:only-of-type {\n",
       "        vertical-align: middle;\n",
       "    }\n",
       "\n",
       "    .dataframe tbody tr th {\n",
       "        vertical-align: top;\n",
       "    }\n",
       "\n",
       "    .dataframe thead th {\n",
       "        text-align: right;\n",
       "    }\n",
       "</style>\n",
       "<table border=\"1\" class=\"dataframe\">\n",
       "  <thead>\n",
       "    <tr style=\"text-align: right;\">\n",
       "      <th></th>\n",
       "      <th>Department</th>\n",
       "      <th>Employee</th>\n",
       "      <th>Salary</th>\n",
       "    </tr>\n",
       "  </thead>\n",
       "  <tbody>\n",
       "    <tr>\n",
       "      <th>0</th>\n",
       "      <td>IT</td>\n",
       "      <td>Jim</td>\n",
       "      <td>90000</td>\n",
       "    </tr>\n",
       "    <tr>\n",
       "      <th>1</th>\n",
       "      <td>IT</td>\n",
       "      <td>Max</td>\n",
       "      <td>90000</td>\n",
       "    </tr>\n",
       "    <tr>\n",
       "      <th>2</th>\n",
       "      <td>Sales</td>\n",
       "      <td>Henry</td>\n",
       "      <td>80000</td>\n",
       "    </tr>\n",
       "  </tbody>\n",
       "</table>\n",
       "</div>"
      ],
      "text/plain": [
       "  Department Employee  Salary\n",
       "0         IT      Jim   90000\n",
       "1         IT      Max   90000\n",
       "2      Sales    Henry   80000"
      ]
     },
     "execution_count": 77,
     "metadata": {},
     "output_type": "execute_result"
    }
   ],
   "source": [
    "department_highest_salary_sol(employee, department)"
   ]
  }
 ],
 "metadata": {
  "kernelspec": {
   "display_name": "Python 3",
   "language": "python",
   "name": "python3"
  },
  "language_info": {
   "codemirror_mode": {
    "name": "ipython",
    "version": 3
   },
   "file_extension": ".py",
   "mimetype": "text/x-python",
   "name": "python",
   "nbconvert_exporter": "python",
   "pygments_lexer": "ipython3",
   "version": "3.11.9"
  }
 },
 "nbformat": 4,
 "nbformat_minor": 2
}
