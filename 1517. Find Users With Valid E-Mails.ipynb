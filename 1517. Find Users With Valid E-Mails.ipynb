{
 "cells": [
  {
   "cell_type": "code",
   "execution_count": 61,
   "metadata": {},
   "outputs": [],
   "source": [
    "import pandas as pd\n",
    "\n",
    "def valid_emails(users):\n",
    "    pattern = r'^[A-Za-z][A-Za-z0-9\\.\\-_]*@leetcode(\\?com)?\\.com$'\n",
    "    req = users['mail'].str.match(pattern)\n",
    "    return users[req]\n"
   ]
  },
  {
   "cell_type": "code",
   "execution_count": 62,
   "metadata": {},
   "outputs": [
    {
     "name": "stdout",
     "output_type": "stream",
     "text": [
      "   user_id       name                     mail\n",
      "0        1    Winston     winston@leetcode.com\n",
      "1        2   Jonathan          jonathanisgreat\n",
      "2        3  Annabelle      bella-@leetcode.com\n",
      "3        4      Sally  sally.come@leetcode.com\n",
      "4        5     Marwan  quarz#2020@leetcode.com\n",
      "5        6      David        david69@gmail.com\n",
      "6        7    Shapiro      .shapo@leetcode.com\n"
     ]
    }
   ],
   "source": [
    "users = pd.DataFrame({'user_id':[1,2,3,4,5,6,7],\n",
    "    'name':['Winston','Jonathan','Annabelle','Sally','Marwan','David','Shapiro'],\n",
    "    'mail':['winston@leetcode.com','jonathanisgreat','bella-@leetcode.com',\n",
    "    'sally.come@leetcode.com','quarz#2020@leetcode.com','david69@gmail.com','.shapo@leetcode.com']})\n",
    "print(users)"
   ]
  },
  {
   "cell_type": "code",
   "execution_count": 63,
   "metadata": {},
   "outputs": [
    {
     "name": "stdout",
     "output_type": "stream",
     "text": [
      "   user_id       name                     mail\n",
      "0        1    Winston     winston@leetcode.com\n",
      "2        3  Annabelle      bella-@leetcode.com\n",
      "3        4      Sally  sally.come@leetcode.com\n"
     ]
    }
   ],
   "source": [
    "print(valid_emails(users))\n"
   ]
  }
 ],
 "metadata": {
  "kernelspec": {
   "display_name": "Python 3",
   "language": "python",
   "name": "python3"
  },
  "language_info": {
   "codemirror_mode": {
    "name": "ipython",
    "version": 3
   },
   "file_extension": ".py",
   "mimetype": "text/x-python",
   "name": "python",
   "nbconvert_exporter": "python",
   "pygments_lexer": "ipython3",
   "version": "3.11.9"
  }
 },
 "nbformat": 4,
 "nbformat_minor": 2
}
