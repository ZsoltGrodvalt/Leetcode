{
 "cells": [
  {
   "cell_type": "code",
   "execution_count": 116,
   "metadata": {},
   "outputs": [],
   "source": [
    "import pandas as pd\n",
    "\n",
    "def sales_persons(sales_person: pd.DataFrame, company: pd.DataFrame, orders: pd.DataFrame) -> pd.DataFrame:\n",
    "    sales_ord = sales_person.merge(orders, on='sales_id', how='left',suffixes=['_sales','_ord'])\n",
    "    all = sales_ord.merge(company, on='com_id', how='left',suffixes=['_person','_com'])\n",
    "    yes_RED = all[all['name_com'] == 'RED'][['name_person']].drop_duplicates('name_person').rename(columns={'name_person':'name with RED'})\n",
    "    names_list = yes_RED['name with RED'].to_list()\n",
    "    # return names_list\n",
    "    names = sales_person[['name']]\n",
    "    no_Red = names[~names['name'].isin(names_list)]\n",
    "    return no_Red\n"
   ]
  },
  {
   "cell_type": "code",
   "execution_count": 117,
   "metadata": {},
   "outputs": [],
   "source": [
    "sales_person = pd.DataFrame({ 'sales_id':[1,2,3,4,5],\n",
    "                        'name':['John','Amy','Mark','Pam','Alex'],\n",
    "                        'salary':[100000,12000,65000,25000,5000]})\n",
    "\n",
    "company = pd.DataFrame({ 'com_id':[1,2,3,4],\n",
    "                        'name':['RED','ORANGE','YELLOW','GREEN'],\n",
    "                        'city':['Boston','New York','Boston','Austin']})\n",
    "\n",
    "orders = pd.DataFrame({ 'order_id':[1,2,3,4],\n",
    "                        'com_id':[3,4,1,1],\n",
    "                        'sales_id':[4,5,1,4],\n",
    "                        'amount':[10000,5000,50000,25000]})"
   ]
  },
  {
   "cell_type": "code",
   "execution_count": 118,
   "metadata": {},
   "outputs": [
    {
     "data": {
      "text/html": [
       "<div>\n",
       "<style scoped>\n",
       "    .dataframe tbody tr th:only-of-type {\n",
       "        vertical-align: middle;\n",
       "    }\n",
       "\n",
       "    .dataframe tbody tr th {\n",
       "        vertical-align: top;\n",
       "    }\n",
       "\n",
       "    .dataframe thead th {\n",
       "        text-align: right;\n",
       "    }\n",
       "</style>\n",
       "<table border=\"1\" class=\"dataframe\">\n",
       "  <thead>\n",
       "    <tr style=\"text-align: right;\">\n",
       "      <th></th>\n",
       "      <th>name</th>\n",
       "    </tr>\n",
       "  </thead>\n",
       "  <tbody>\n",
       "    <tr>\n",
       "      <th>1</th>\n",
       "      <td>Amy</td>\n",
       "    </tr>\n",
       "    <tr>\n",
       "      <th>2</th>\n",
       "      <td>Mark</td>\n",
       "    </tr>\n",
       "    <tr>\n",
       "      <th>4</th>\n",
       "      <td>Alex</td>\n",
       "    </tr>\n",
       "  </tbody>\n",
       "</table>\n",
       "</div>"
      ],
      "text/plain": [
       "   name\n",
       "1   Amy\n",
       "2  Mark\n",
       "4  Alex"
      ]
     },
     "execution_count": 118,
     "metadata": {},
     "output_type": "execute_result"
    }
   ],
   "source": [
    "sales_persons(sales_person,company,orders)"
   ]
  }
 ],
 "metadata": {
  "kernelspec": {
   "display_name": "Python 3",
   "language": "python",
   "name": "python3"
  },
  "language_info": {
   "codemirror_mode": {
    "name": "ipython",
    "version": 3
   },
   "file_extension": ".py",
   "mimetype": "text/x-python",
   "name": "python",
   "nbconvert_exporter": "python",
   "pygments_lexer": "ipython3",
   "version": "3.11.9"
  }
 },
 "nbformat": 4,
 "nbformat_minor": 2
}
