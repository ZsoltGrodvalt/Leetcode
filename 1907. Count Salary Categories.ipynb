{
 "cells": [
  {
   "cell_type": "code",
   "execution_count": null,
   "metadata": {},
   "outputs": [],
   "source": [
    "import pandas as pd\n",
    "\n",
    "def count_salary_categories(accounts: pd.DataFrame) -> pd.DataFrame:\n",
    "    accountsNew = accounts\n",
    "    accountsNew['category'] = 0\n",
    "    accountsNew['category'][accountsNew['income'] < 20000] = 0\n",
    "    accountsNew['category'][(accountsNew['income'] >= 20000) & (accountsNew['income'] < 50000)] = 1\n",
    "    accountsNew['category'][accountsNew['income'] > 50000] = 2\n",
    "    accounts_grouped = accounts.groupby(['category']).count()\n",
    "    return accounts_grouped"
   ]
  }
 ],
 "metadata": {
  "language_info": {
   "name": "python"
  }
 },
 "nbformat": 4,
 "nbformat_minor": 2
}
