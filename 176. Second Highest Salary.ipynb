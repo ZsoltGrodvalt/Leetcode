{
 "cells": [
  {
   "cell_type": "code",
   "execution_count": 74,
   "metadata": {},
   "outputs": [],
   "source": [
    "import pandas as pd"
   ]
  },
  {
   "cell_type": "code",
   "execution_count": 75,
   "metadata": {},
   "outputs": [],
   "source": [
    "def second_highest_salary(employee: pd.DataFrame) -> pd.DataFrame:\n",
    "    employee.sort_values('salary', inplace=True, ascending=False)\n",
    "    employee.drop_duplicates('salary',inplace=True)\n",
    "    print(employee)\n",
    "    SecondHighestSalary = pd.DataFrame({'SecondHighestSalary':[None]})\n",
    "    if len(employee) > 1:\n",
    "        SecondHighestSalary.loc[0,'SecondHighestSalary'] = employee['salary'].iloc[1]\n",
    "    return SecondHighestSalary"
   ]
  },
  {
   "cell_type": "code",
   "execution_count": 76,
   "metadata": {},
   "outputs": [],
   "source": [
    "employee = pd.DataFrame({   'id':[1,2,3,4,5,6,7,8,9],\n",
    "                            'salary':[100,200,300,100,500,600,400,600,800]})\n",
    "\n",
    "employee = pd.DataFrame({   'id':[1],\n",
    "                            'salary':[100]})\n",
    "\n",
    "employee = pd.DataFrame({   'id':[1,2],\n",
    "                            'salary':[100,100]})"
   ]
  },
  {
   "cell_type": "code",
   "execution_count": 77,
   "metadata": {},
   "outputs": [
    {
     "name": "stdout",
     "output_type": "stream",
     "text": [
      "   id  salary\n",
      "0   1     100\n"
     ]
    },
    {
     "data": {
      "text/html": [
       "<div>\n",
       "<style scoped>\n",
       "    .dataframe tbody tr th:only-of-type {\n",
       "        vertical-align: middle;\n",
       "    }\n",
       "\n",
       "    .dataframe tbody tr th {\n",
       "        vertical-align: top;\n",
       "    }\n",
       "\n",
       "    .dataframe thead th {\n",
       "        text-align: right;\n",
       "    }\n",
       "</style>\n",
       "<table border=\"1\" class=\"dataframe\">\n",
       "  <thead>\n",
       "    <tr style=\"text-align: right;\">\n",
       "      <th></th>\n",
       "      <th>SecondHighestSalary</th>\n",
       "    </tr>\n",
       "  </thead>\n",
       "  <tbody>\n",
       "    <tr>\n",
       "      <th>0</th>\n",
       "      <td>None</td>\n",
       "    </tr>\n",
       "  </tbody>\n",
       "</table>\n",
       "</div>"
      ],
      "text/plain": [
       "  SecondHighestSalary\n",
       "0                None"
      ]
     },
     "execution_count": 77,
     "metadata": {},
     "output_type": "execute_result"
    }
   ],
   "source": [
    "second_highest_salary(employee)"
   ]
  }
 ],
 "metadata": {
  "kernelspec": {
   "display_name": "Python 3",
   "language": "python",
   "name": "python3"
  },
  "language_info": {
   "codemirror_mode": {
    "name": "ipython",
    "version": 3
   },
   "file_extension": ".py",
   "mimetype": "text/x-python",
   "name": "python",
   "nbconvert_exporter": "python",
   "pygments_lexer": "ipython3",
   "version": "3.11.9"
  }
 },
 "nbformat": 4,
 "nbformat_minor": 2
}
